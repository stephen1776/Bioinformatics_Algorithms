{
 "cells": [
  {
   "cell_type": "code",
   "execution_count": 97,
   "metadata": {},
   "outputs": [
    {
     "data": {
      "text/plain": [
       "['CATG', 'GCAT']"
      ]
     },
     "execution_count": 97,
     "metadata": {},
     "output_type": "execute_result"
    }
   ],
   "source": [
    "'''\n",
    "Find the most frequent k-mers in a string.\n",
    "\n",
    "Implement Frequent Words\n",
    "\n",
    "Given: A DNA string Text and an integer k.\n",
    "Return: All most frequent k-mers in Text (in any order).\n",
    "\n",
    "Sample Dataset\n",
    "ACGTTGCATGTCGCATGATGCATGAGAGCT\n",
    "4\n",
    "\n",
    "Sample Output\n",
    "CATG GCAT\n",
    "'''\n",
    "# Stephen Blatti 07112017\n",
    "\n",
    "def PatternCount(Text, Pattern):\n",
    "    Count = 0\n",
    "    for i in range(0, (len(Text) - len(Pattern) + 1)):\n",
    "        if Text[i:i+len(Pattern)] == Pattern:\n",
    "           Count = Count + 1\n",
    "    return Count\n",
    "\n",
    "def FrequentWords(Text, k):\n",
    "    FrequentPatterns = [0]\n",
    "    Count = [0] * (len(Text) - k + 1)\n",
    "    for i in range(0, (len(Text) - k + 1)):\n",
    "        Pattern = Text[i:i+k]\n",
    "        Count[i] = PatternCount(Text, Pattern)\n",
    "    maxCount = max(Count)    \n",
    "    FrequentPatterns = list(set([Text[i:i + k] for i, j in enumerate(Count) if j == maxCount]))\n",
    "    return FrequentPatterns\n",
    "#FrequentWords(\"ACGTTGCATGTCGCATGATGCATGAGAGCT\", 4)\n",
    "FrequentWords('', 4)\n",
    "\n"
   ]
  }
 ],
 "metadata": {
  "kernelspec": {
   "display_name": "Python 3",
   "language": "python",
   "name": "python3"
  },
  "language_info": {
   "codemirror_mode": {
    "name": "ipython",
    "version": 3
   },
   "file_extension": ".py",
   "mimetype": "text/x-python",
   "name": "python",
   "nbconvert_exporter": "python",
   "pygments_lexer": "ipython3",
   "version": "3.6.1"
  }
 },
 "nbformat": 4,
 "nbformat_minor": 2
}
