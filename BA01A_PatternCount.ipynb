{
 "cells": [
  {
   "cell_type": "code",
   "execution_count": 2,
   "metadata": {},
   "outputs": [
    {
     "name": "stdout",
     "output_type": "stream",
     "text": [
      "33\n"
     ]
    }
   ],
   "source": [
    "# Compute the Number of Times a Pattern Appears in a Text\n",
    "\n",
    "'''\n",
    "The pseudocode:\n",
    "    PatternCount(Text, Pattern)\n",
    "        count ← 0\n",
    "        for i ← 0 to |Text| − |Pattern|\n",
    "            if Text(i, |Pattern|) = Pattern\n",
    "                count ← count + 1\n",
    "        return count\n",
    "\n",
    "Implement PatternCount\n",
    "\n",
    "Given: {DNA strings}} Text and Pattern.\n",
    "\n",
    "Return: Count(Text, Pattern).\n",
    "Sample Dataset\n",
    "\n",
    "GCGCG\n",
    "GCG\n",
    "\n",
    "Sample Output\n",
    "\n",
    "2\n",
    "\n",
    "'''\n",
    "infile = open('data_pc2.txt','r')\n",
    "inText = infile.readline() #reads entire first - line the data\n",
    "inPattern = infile.readline()# reads second line - the pattern\n",
    "\n",
    "def PatternCount(Text, Pattern):\n",
    "    count = 0\n",
    "    for i in range(0, (len(Text) - len(Pattern) + 1)):\n",
    "        if Text[i:i+len(Pattern)] == Pattern:\n",
    "            count = count + 1\n",
    "    return count\n",
    "print(PatternCount(inText, inPattern))\n",
    "infile.close()\n",
    "\n"
   ]
  }
 ],
 "metadata": {
  "kernelspec": {
   "display_name": "Python 3",
   "language": "python",
   "name": "python3"
  },
  "language_info": {
   "codemirror_mode": {
    "name": "ipython",
    "version": 3
   },
   "file_extension": ".py",
   "mimetype": "text/x-python",
   "name": "python",
   "nbconvert_exporter": "python",
   "pygments_lexer": "ipython3",
   "version": "3.6.1"
  }
 },
 "nbformat": 4,
 "nbformat_minor": 2
}
