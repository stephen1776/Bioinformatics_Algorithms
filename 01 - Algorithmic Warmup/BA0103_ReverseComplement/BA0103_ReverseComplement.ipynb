{
 "cells": [
  {
   "cell_type": "code",
   "execution_count": 10,
   "metadata": {
    "collapsed": true
   },
   "outputs": [],
   "source": [
    "'''\n",
    "Find the reverse complement of a DNA string.\n",
    "\n",
    "Implement Reverse Complement \n",
    "\n",
    "Given: A DNA string Pattern.\n",
    "Return: Pattern, the reverse complement of Pattern.\n",
    "\n",
    "Sample Dataset\n",
    "AAAACCCGGT\n",
    "\n",
    "Sample Output\n",
    "ACCGGGTTTT\n",
    "'''\n",
    "# Stephen Blatti 07302017\n",
    "\n",
    "infile = open('','r')\n",
    "dna = infile.read().rstrip(\"\\n\")\n",
    "#dna = 'AAAACCCGGT'\n",
    "def reverseComplement(dna):\n",
    "    dnaComplementDict = {'A':'T','C':'G','G':'C','T':'A'} #create dictionary\n",
    "    complementDNA = [ dnaComplementDict[i] for i in dna ] #complement the dna\n",
    "    return complementDNA[::-1] # reverse the complement\n",
    "#print(''.join(reverseComplement(dna)))\n",
    "outFile = open(\"reverseComplement_output.txt\", \"w\")\n",
    "outFile.write(''.join(reverseComplement(dna)))\n",
    "outFile.close()"
   ]
  }
 ],
 "metadata": {
  "kernelspec": {
   "display_name": "Python 3",
   "language": "python",
   "name": "python3"
  },
  "language_info": {
   "codemirror_mode": {
    "name": "ipython",
    "version": 3
   },
   "file_extension": ".py",
   "mimetype": "text/x-python",
   "name": "python",
   "nbconvert_exporter": "python",
   "pygments_lexer": "ipython3",
   "version": "3.6.1"
  }
 },
 "nbformat": 4,
 "nbformat_minor": 2
}
