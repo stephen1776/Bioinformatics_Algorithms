{
 "cells": [
  {
   "cell_type": "code",
   "execution_count": null,
   "metadata": {
    "collapsed": true
   },
   "outputs": [],
   "source": [
    "'''\n",
    "Implement Pattern Matching\n",
    "Find all occurrences of a pattern in a string.\n",
    "\n",
    "Given: Strings Pattern and Genome.\n",
    "Return: All starting positions in Genome where Pattern appears as a substring. Use 0-based indexing.\n",
    "\n",
    "Sample Dataset\n",
    "ATAT\n",
    "GATATATGCATATACTT\n",
    "\n",
    "Sample Output\n",
    "1 3 9\n",
    "'''\n",
    "# Stephen Blatti 08012017\n",
    "\n",
    "import re\n",
    "infile = open('','r')\n",
    "lines = infile.read().splitlines()\n",
    "Pattern = lines[0]\n",
    "Genome = lines[1]\n",
    "#Pattern = 'ATAT'\n",
    "#Genome = 'GATATATGCATATACTT'\n",
    "def patternMatch(Pattern, Genome):\n",
    "    matches = re.finditer('(?=%s)' % Pattern, Genome) \n",
    "    for m in matches:\n",
    "        print(m.start())\n",
    "\n",
    "patternMatch(Pattern, Genome)"
   ]
  }
 ],
 "metadata": {
  "kernelspec": {
   "display_name": "Python 3",
   "language": "python",
   "name": "python3"
  },
  "language_info": {
   "codemirror_mode": {
    "name": "ipython",
    "version": 3
   },
   "file_extension": ".py",
   "mimetype": "text/x-python",
   "name": "python",
   "nbconvert_exporter": "python",
   "pygments_lexer": "ipython3",
   "version": "3.6.1"
  }
 },
 "nbformat": 4,
 "nbformat_minor": 2
}
