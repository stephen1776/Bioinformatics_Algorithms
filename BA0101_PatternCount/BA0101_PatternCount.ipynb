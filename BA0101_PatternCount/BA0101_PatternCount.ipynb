{
 "cells": [
  {
   "cell_type": "code",
   "execution_count": 1,
   "metadata": {},
   "outputs": [
    {
     "name": "stdout",
     "output_type": "stream",
     "text": [
      "33\n"
     ]
    }
   ],
   "source": [
    "'''\n",
    "Compute the Number of Times a Pattern Appears in a Text.\n",
    "\n",
    "Implement PatternCount\n",
    "\n",
    "Given: {DNA strings}} Text and Pattern.\n",
    "Return: Count(Text, Pattern).\n",
    "\n",
    "Sample Dataset\n",
    "GCGCG\n",
    "GCG\n",
    "\n",
    "Sample Output\n",
    "2\n",
    "'''\n",
    "# Stephen Blatti 07092017\n",
    "\n",
    "infile = open('','r')\n",
    "inText = infile.readline() #reads entire first - line the data\n",
    "inPattern = infile.readline()# reads second line - the pattern\n",
    "\n",
    "def PatternCount(Text, Pattern):\n",
    "    count = 0\n",
    "    for i in range(0, (len(Text) - len(Pattern) + 1)):\n",
    "        if Text[i:i+len(Pattern)] == Pattern:\n",
    "            count = count + 1\n",
    "    return count\n",
    "print(PatternCount(inText, inPattern))\n",
    "infile.close()\n",
    "\n"
   ]
  }
 ],
 "metadata": {
  "kernelspec": {
   "display_name": "Python 3",
   "language": "python",
   "name": "python3"
  },
  "language_info": {
   "codemirror_mode": {
    "name": "ipython",
    "version": 3
   },
   "file_extension": ".py",
   "mimetype": "text/x-python",
   "name": "python",
   "nbconvert_exporter": "python",
   "pygments_lexer": "ipython3",
   "version": "3.6.1"
  }
 },
 "nbformat": 4,
 "nbformat_minor": 2
}
